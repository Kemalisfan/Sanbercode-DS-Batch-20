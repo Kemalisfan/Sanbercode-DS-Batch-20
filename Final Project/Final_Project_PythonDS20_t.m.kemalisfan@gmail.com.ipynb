{
 "cells": [
  {
   "cell_type": "markdown",
   "metadata": {},
   "source": [
    "# Final Project - Python Data Science\n",
    "https://www.kaggle.com/c/sanbercode-ds-final-project/overview\n",
    "### Teuku Muhammad Kemal Isfan\n",
    "### t.m.kemalisfan@gmail.com"
   ]
  },
  {
   "cell_type": "code",
   "execution_count": 1,
   "metadata": {},
   "outputs": [],
   "source": [
    "#Import Library\n",
    "import pandas as pd\n",
    "import numpy as np\n",
    "\n",
    "df_train_raw = pd.read_csv('train.csv')\n",
    "df_test_raw = pd.read_csv('test.csv')\n",
    "\n",
    "df_train = df_train_raw.copy()\n",
    "df_test = df_test_raw.copy()"
   ]
  },
  {
   "cell_type": "code",
   "execution_count": 2,
   "metadata": {},
   "outputs": [
    {
     "name": "stdout",
     "output_type": "stream",
     "text": [
      "(1500, 22)\n",
      "(500, 21)\n"
     ]
    }
   ],
   "source": [
    "print(df_train.shape)\n",
    "print(df_test.shape)"
   ]
  },
  {
   "cell_type": "markdown",
   "metadata": {
    "scrolled": true
   },
   "source": [
    "### Mempelajari informasi dari data"
   ]
  },
  {
   "cell_type": "code",
   "execution_count": 3,
   "metadata": {},
   "outputs": [
    {
     "name": "stdout",
     "output_type": "stream",
     "text": [
      "<class 'pandas.core.frame.DataFrame'>\n",
      "RangeIndex: 1500 entries, 0 to 1499\n",
      "Data columns (total 22 columns):\n",
      " #   Column              Non-Null Count  Dtype  \n",
      "---  ------              --------------  -----  \n",
      " 0   index               1500 non-null   int64  \n",
      " 1   daya_baterai        1500 non-null   int64  \n",
      " 2   bluetooth           1500 non-null   int64  \n",
      " 3   kecepatan_clock     1450 non-null   float64\n",
      " 4   dual_sim            1500 non-null   int64  \n",
      " 5   kamera_depan        1500 non-null   int64  \n",
      " 6   four_g              1500 non-null   object \n",
      " 7   memori_internal     1500 non-null   int64  \n",
      " 8   tebal_hp            1500 non-null   float64\n",
      " 9   berat_hp            1500 non-null   int64  \n",
      " 10  jumlah_prosesor     1500 non-null   int64  \n",
      " 11  kamera_belakang_mp  1500 non-null   int64  \n",
      " 12  px_panjang          1500 non-null   int64  \n",
      " 13  px_lebar            1500 non-null   int64  \n",
      " 14  kapasitas_ram       1500 non-null   int64  \n",
      " 15  panjang_layar       1381 non-null   float64\n",
      " 16  lebar_layar         1500 non-null   int64  \n",
      " 17  waktu_telfon        1500 non-null   int64  \n",
      " 18  three_g             1500 non-null   int64  \n",
      " 19  touch_screen        1500 non-null   int64  \n",
      " 20  wifi                1500 non-null   int64  \n",
      " 21  price_range         1500 non-null   object \n",
      "dtypes: float64(3), int64(17), object(2)\n",
      "memory usage: 257.9+ KB\n"
     ]
    }
   ],
   "source": [
    "df_train.info()"
   ]
  },
  {
   "cell_type": "code",
   "execution_count": 4,
   "metadata": {},
   "outputs": [
    {
     "name": "stdout",
     "output_type": "stream",
     "text": [
      "<class 'pandas.core.frame.DataFrame'>\n",
      "RangeIndex: 500 entries, 0 to 499\n",
      "Data columns (total 21 columns):\n",
      " #   Column              Non-Null Count  Dtype  \n",
      "---  ------              --------------  -----  \n",
      " 0   index               500 non-null    int64  \n",
      " 1   daya_baterai        500 non-null    int64  \n",
      " 2   bluetooth           500 non-null    int64  \n",
      " 3   kecepatan_clock     500 non-null    float64\n",
      " 4   dual_sim            500 non-null    int64  \n",
      " 5   kamera_depan        500 non-null    int64  \n",
      " 6   four_g              500 non-null    object \n",
      " 7   memori_internal     500 non-null    int64  \n",
      " 8   tebal_hp            500 non-null    float64\n",
      " 9   berat_hp            500 non-null    int64  \n",
      " 10  jumlah_prosesor     500 non-null    int64  \n",
      " 11  kamera_belakang_mp  500 non-null    int64  \n",
      " 12  px_panjang          500 non-null    int64  \n",
      " 13  px_lebar            500 non-null    int64  \n",
      " 14  kapasitas_ram       500 non-null    int64  \n",
      " 15  panjang_layar       500 non-null    int64  \n",
      " 16  lebar_layar         500 non-null    int64  \n",
      " 17  waktu_telfon        500 non-null    int64  \n",
      " 18  three_g             500 non-null    int64  \n",
      " 19  touch_screen        500 non-null    int64  \n",
      " 20  wifi                500 non-null    int64  \n",
      "dtypes: float64(2), int64(18), object(1)\n",
      "memory usage: 82.2+ KB\n"
     ]
    }
   ],
   "source": [
    "df_test.info()"
   ]
  },
  {
   "cell_type": "markdown",
   "metadata": {},
   "source": [
    "#### DataFrame df_train memiliki kolom lebih banyak karena ada kolom 'price-range' "
   ]
  },
  {
   "cell_type": "code",
   "execution_count": 5,
   "metadata": {},
   "outputs": [
    {
     "data": {
      "text/plain": [
       "1000k-<2000k    390\n",
       "0-<1000k        376\n",
       "2000k-3000k     375\n",
       ">3000k          359\n",
       "Name: price_range, dtype: int64"
      ]
     },
     "execution_count": 5,
     "metadata": {},
     "output_type": "execute_result"
    }
   ],
   "source": [
    "df_train['price_range'].value_counts()"
   ]
  },
  {
   "cell_type": "markdown",
   "metadata": {},
   "source": [
    "---"
   ]
  },
  {
   "cell_type": "markdown",
   "metadata": {},
   "source": [
    "## Preprocessing Data"
   ]
  },
  {
   "cell_type": "markdown",
   "metadata": {},
   "source": [
    "### Memeriksa apakah DataFrame df_train dan df_test memiliki  missing value"
   ]
  },
  {
   "cell_type": "code",
   "execution_count": 6,
   "metadata": {},
   "outputs": [],
   "source": [
    "# membuat function untuk menampilkan missing value dengan method .isnull()\n",
    "\n",
    "def miss_val(df):\n",
    "    for col in df.columns.tolist():\n",
    "        print('Missing value in {} column : {}'.format(col,df[col].isnull().sum()))\n",
    "    print('\\n')"
   ]
  },
  {
   "cell_type": "code",
   "execution_count": 7,
   "metadata": {},
   "outputs": [
    {
     "name": "stdout",
     "output_type": "stream",
     "text": [
      "Missing value in index column : 0\n",
      "Missing value in daya_baterai column : 0\n",
      "Missing value in bluetooth column : 0\n",
      "Missing value in kecepatan_clock column : 50\n",
      "Missing value in dual_sim column : 0\n",
      "Missing value in kamera_depan column : 0\n",
      "Missing value in four_g column : 0\n",
      "Missing value in memori_internal column : 0\n",
      "Missing value in tebal_hp column : 0\n",
      "Missing value in berat_hp column : 0\n",
      "Missing value in jumlah_prosesor column : 0\n",
      "Missing value in kamera_belakang_mp column : 0\n",
      "Missing value in px_panjang column : 0\n",
      "Missing value in px_lebar column : 0\n",
      "Missing value in kapasitas_ram column : 0\n",
      "Missing value in panjang_layar column : 119\n",
      "Missing value in lebar_layar column : 0\n",
      "Missing value in waktu_telfon column : 0\n",
      "Missing value in three_g column : 0\n",
      "Missing value in touch_screen column : 0\n",
      "Missing value in wifi column : 0\n",
      "Missing value in price_range column : 0\n",
      "\n",
      "\n"
     ]
    }
   ],
   "source": [
    "miss_val(df_train)"
   ]
  },
  {
   "cell_type": "code",
   "execution_count": 8,
   "metadata": {},
   "outputs": [
    {
     "name": "stdout",
     "output_type": "stream",
     "text": [
      "Missing value in index column : 0\n",
      "Missing value in daya_baterai column : 0\n",
      "Missing value in bluetooth column : 0\n",
      "Missing value in kecepatan_clock column : 0\n",
      "Missing value in dual_sim column : 0\n",
      "Missing value in kamera_depan column : 0\n",
      "Missing value in four_g column : 0\n",
      "Missing value in memori_internal column : 0\n",
      "Missing value in tebal_hp column : 0\n",
      "Missing value in berat_hp column : 0\n",
      "Missing value in jumlah_prosesor column : 0\n",
      "Missing value in kamera_belakang_mp column : 0\n",
      "Missing value in px_panjang column : 0\n",
      "Missing value in px_lebar column : 0\n",
      "Missing value in kapasitas_ram column : 0\n",
      "Missing value in panjang_layar column : 0\n",
      "Missing value in lebar_layar column : 0\n",
      "Missing value in waktu_telfon column : 0\n",
      "Missing value in three_g column : 0\n",
      "Missing value in touch_screen column : 0\n",
      "Missing value in wifi column : 0\n",
      "\n",
      "\n"
     ]
    }
   ],
   "source": [
    "miss_val(df_test)"
   ]
  },
  {
   "cell_type": "code",
   "execution_count": 9,
   "metadata": {},
   "outputs": [],
   "source": [
    "# Tidak ada missing value pada df_test, \n",
    "# sementara ada dua kolom (kecepatan clock & panjang layar) pada df_train yang memiliki missing value"
   ]
  },
  {
   "cell_type": "markdown",
   "metadata": {},
   "source": [
    "### Data filling / replacing.  (Mengubah NaN value)"
   ]
  },
  {
   "cell_type": "markdown",
   "metadata": {},
   "source": [
    "#### Kolom 'kecepatan_clock'"
   ]
  },
  {
   "cell_type": "code",
   "execution_count": 10,
   "metadata": {},
   "outputs": [
    {
     "name": "stdout",
     "output_type": "stream",
     "text": [
      "0\n"
     ]
    }
   ],
   "source": [
    "# Merubah nilai NaN dengan metode .mean() karena data kolom 'kecepatan_clock' bertipe numerik \n",
    "\n",
    "df_train['kecepatan_clock'] = df_train['kecepatan_clock'].fillna(df_train['kecepatan_clock'].mean())\n",
    "print(df_train['kecepatan_clock'].isnull().sum())"
   ]
  },
  {
   "cell_type": "markdown",
   "metadata": {},
   "source": [
    "#### Kolom 'panjang_layar'"
   ]
  },
  {
   "cell_type": "code",
   "execution_count": 11,
   "metadata": {},
   "outputs": [
    {
     "name": "stdout",
     "output_type": "stream",
     "text": [
      "0\n"
     ]
    }
   ],
   "source": [
    "# Merubah nilai NaN dengan metode .mean() karena data bertipe numerik \n",
    "\n",
    "df_train['panjang_layar'] = df_train['panjang_layar'].fillna(df_train['panjang_layar'].mean())\n",
    "print(df_train['panjang_layar'].isnull().sum())"
   ]
  },
  {
   "cell_type": "markdown",
   "metadata": {},
   "source": [
    "##   Encoding data Pada df_train dan df_test"
   ]
  },
  {
   "cell_type": "markdown",
   "metadata": {},
   "source": [
    "#### kolom 'four_g' memiliki value 'Tidak' dan 'Ya' --> encode menjadi 0 & 1"
   ]
  },
  {
   "cell_type": "code",
   "execution_count": 12,
   "metadata": {},
   "outputs": [],
   "source": [
    "four_g_dict = {'Tidak' : 0, 'Ya' : 1}\n",
    "\n",
    "# for df_train :\n",
    "df_train['four_g'] = df_train['four_g'].replace(four_g_dict)\n",
    "\n",
    "\n",
    "# for df_test :\n",
    "df_test['four_g'] = df_test['four_g'].replace(four_g_dict)"
   ]
  },
  {
   "cell_type": "markdown",
   "metadata": {},
   "source": [
    "### Merubah kolom 'price_range' sesuai ketentuan pada Kaggle"
   ]
  },
  {
   "cell_type": "code",
   "execution_count": 13,
   "metadata": {},
   "outputs": [
    {
     "data": {
      "text/plain": [
       "1000k-<2000k    390\n",
       "0-<1000k        376\n",
       "2000k-3000k     375\n",
       ">3000k          359\n",
       "Name: price_range, dtype: int64"
      ]
     },
     "execution_count": 13,
     "metadata": {},
     "output_type": "execute_result"
    }
   ],
   "source": [
    "df_train['price_range'].value_counts()"
   ]
  },
  {
   "cell_type": "code",
   "execution_count": 14,
   "metadata": {},
   "outputs": [],
   "source": [
    "price_range_dict = {'0-<1000k' : 0,\n",
    "                    '1000k-<2000k' : 1,\n",
    "                    '2000k-3000k' : 2,\n",
    "                    '>3000k' : 3\n",
    "                   }\n",
    "                    \n",
    "df_train['price_range'] = df_train['price_range'].replace(price_range_dict)"
   ]
  },
  {
   "cell_type": "code",
   "execution_count": 15,
   "metadata": {},
   "outputs": [
    {
     "data": {
      "text/plain": [
       "1    390\n",
       "0    376\n",
       "2    375\n",
       "3    359\n",
       "Name: price_range, dtype: int64"
      ]
     },
     "execution_count": 15,
     "metadata": {},
     "output_type": "execute_result"
    }
   ],
   "source": [
    "df_train['price_range'].value_counts()"
   ]
  },
  {
   "cell_type": "markdown",
   "metadata": {},
   "source": [
    "### Melihat korelasi setiap kolom "
   ]
  },
  {
   "cell_type": "code",
   "execution_count": 16,
   "metadata": {},
   "outputs": [
    {
     "data": {
      "image/png": "[encoded data removed]",
      "text/plain": [
       "<Figure size 1152x1152 with 2 Axes>"
      ]
     },
     "metadata": {
      "needs_background": "light"
     },
     "output_type": "display_data"
    }
   ],
   "source": [
    "import matplotlib.pyplot as plt\n",
    "import seaborn as sns\n",
    "plt.figure(figsize=(16,16))\n",
    "mask = np.triu(np.ones_like(df_train.corr())) \n",
    "sns.heatmap(df_train.corr(),vmin=-1,vmax=1, mask=mask, annot = True, cmap=\"YlGnBu\")\n",
    "plt.title('Heatmap for Correaltion')\n",
    "plt.show()"
   ]
  },
  {
   "cell_type": "markdown",
   "metadata": {},
   "source": [
    "##### dari plot di atas, dapat dilihat bahwa kolom yang berpengaruh signifikan terhadap 'price_range' adalah kolom 'kapasitas_ram' "
   ]
  },
  {
   "cell_type": "markdown",
   "metadata": {},
   "source": [
    "--- "
   ]
  },
  {
   "cell_type": "markdown",
   "metadata": {},
   "source": [
    "# Modelling"
   ]
  },
  {
   "cell_type": "markdown",
   "metadata": {},
   "source": [
    "### Membuat Variabel untuk train dan validasi"
   ]
  },
  {
   "cell_type": "markdown",
   "metadata": {},
   "source": [
    "Kita memiliki 2 data, yaitu 'train.csv' dan 'test.csv', tetapi pada data test.csv tidak memiliki kolom target (kolom 'price_range') sehingga kita tidak dapat memeriksa performa model.\n",
    "\n",
    "agar dapat memeriksa performa model, kita split df_train menjadi dataset 'train' dan dataset 'valid'."
   ]
  },
  {
   "cell_type": "code",
   "execution_count": 18,
   "metadata": {},
   "outputs": [
    {
     "data": {
      "text/html": [
       "<div>\n",
       "<style scoped>\n",
       "    .dataframe tbody tr th:only-of-type {\n",
       "        vertical-align: middle;\n",
       "    }\n",
       "\n",
       "    .dataframe tbody tr th {\n",
       "        vertical-align: top;\n",
       "    }\n",
       "\n",
       "    .dataframe thead th {\n",
       "        text-align: right;\n",
       "    }\n",
       "</style>\n",
       "<table border=\"1\" class=\"dataframe\">\n",
       "  <thead>\n",
       "    <tr style=\"text-align: right;\">\n",
       "      <th></th>\n",
       "      <th>daya_baterai</th>\n",
       "      <th>bluetooth</th>\n",
       "      <th>kecepatan_clock</th>\n",
       "      <th>dual_sim</th>\n",
       "      <th>kamera_depan</th>\n",
       "      <th>four_g</th>\n",
       "      <th>memori_internal</th>\n",
       "      <th>tebal_hp</th>\n",
       "      <th>berat_hp</th>\n",
       "      <th>jumlah_prosesor</th>\n",
       "      <th>kamera_belakang_mp</th>\n",
       "      <th>px_panjang</th>\n",
       "      <th>px_lebar</th>\n",
       "      <th>kapasitas_ram</th>\n",
       "      <th>panjang_layar</th>\n",
       "      <th>lebar_layar</th>\n",
       "      <th>waktu_telfon</th>\n",
       "      <th>three_g</th>\n",
       "      <th>touch_screen</th>\n",
       "      <th>wifi</th>\n",
       "    </tr>\n",
       "  </thead>\n",
       "  <tbody>\n",
       "    <tr>\n",
       "      <th>0</th>\n",
       "      <td>1454</td>\n",
       "      <td>1</td>\n",
       "      <td>0.5</td>\n",
       "      <td>1</td>\n",
       "      <td>1</td>\n",
       "      <td>0</td>\n",
       "      <td>34</td>\n",
       "      <td>0.7</td>\n",
       "      <td>83</td>\n",
       "      <td>4</td>\n",
       "      <td>3</td>\n",
       "      <td>250</td>\n",
       "      <td>1033</td>\n",
       "      <td>3419</td>\n",
       "      <td>7</td>\n",
       "      <td>5</td>\n",
       "      <td>5</td>\n",
       "      <td>1</td>\n",
       "      <td>1</td>\n",
       "      <td>0</td>\n",
       "    </tr>\n",
       "    <tr>\n",
       "      <th>1</th>\n",
       "      <td>1092</td>\n",
       "      <td>1</td>\n",
       "      <td>0.5</td>\n",
       "      <td>1</td>\n",
       "      <td>10</td>\n",
       "      <td>0</td>\n",
       "      <td>11</td>\n",
       "      <td>0.5</td>\n",
       "      <td>167</td>\n",
       "      <td>3</td>\n",
       "      <td>14</td>\n",
       "      <td>468</td>\n",
       "      <td>571</td>\n",
       "      <td>737</td>\n",
       "      <td>14</td>\n",
       "      <td>4</td>\n",
       "      <td>11</td>\n",
       "      <td>0</td>\n",
       "      <td>1</td>\n",
       "      <td>0</td>\n",
       "    </tr>\n",
       "    <tr>\n",
       "      <th>2</th>\n",
       "      <td>1524</td>\n",
       "      <td>1</td>\n",
       "      <td>1.8</td>\n",
       "      <td>1</td>\n",
       "      <td>0</td>\n",
       "      <td>0</td>\n",
       "      <td>10</td>\n",
       "      <td>0.6</td>\n",
       "      <td>174</td>\n",
       "      <td>4</td>\n",
       "      <td>1</td>\n",
       "      <td>154</td>\n",
       "      <td>550</td>\n",
       "      <td>2678</td>\n",
       "      <td>16</td>\n",
       "      <td>5</td>\n",
       "      <td>13</td>\n",
       "      <td>1</td>\n",
       "      <td>0</td>\n",
       "      <td>1</td>\n",
       "    </tr>\n",
       "    <tr>\n",
       "      <th>3</th>\n",
       "      <td>1807</td>\n",
       "      <td>1</td>\n",
       "      <td>2.1</td>\n",
       "      <td>0</td>\n",
       "      <td>2</td>\n",
       "      <td>0</td>\n",
       "      <td>49</td>\n",
       "      <td>0.8</td>\n",
       "      <td>125</td>\n",
       "      <td>1</td>\n",
       "      <td>10</td>\n",
       "      <td>337</td>\n",
       "      <td>1384</td>\n",
       "      <td>1906</td>\n",
       "      <td>17</td>\n",
       "      <td>13</td>\n",
       "      <td>13</td>\n",
       "      <td>0</td>\n",
       "      <td>1</td>\n",
       "      <td>1</td>\n",
       "    </tr>\n",
       "    <tr>\n",
       "      <th>4</th>\n",
       "      <td>1086</td>\n",
       "      <td>1</td>\n",
       "      <td>1.7</td>\n",
       "      <td>1</td>\n",
       "      <td>0</td>\n",
       "      <td>1</td>\n",
       "      <td>43</td>\n",
       "      <td>0.2</td>\n",
       "      <td>111</td>\n",
       "      <td>6</td>\n",
       "      <td>1</td>\n",
       "      <td>56</td>\n",
       "      <td>1150</td>\n",
       "      <td>3285</td>\n",
       "      <td>11</td>\n",
       "      <td>5</td>\n",
       "      <td>17</td>\n",
       "      <td>1</td>\n",
       "      <td>1</td>\n",
       "      <td>0</td>\n",
       "    </tr>\n",
       "    <tr>\n",
       "      <th>...</th>\n",
       "      <td>...</td>\n",
       "      <td>...</td>\n",
       "      <td>...</td>\n",
       "      <td>...</td>\n",
       "      <td>...</td>\n",
       "      <td>...</td>\n",
       "      <td>...</td>\n",
       "      <td>...</td>\n",
       "      <td>...</td>\n",
       "      <td>...</td>\n",
       "      <td>...</td>\n",
       "      <td>...</td>\n",
       "      <td>...</td>\n",
       "      <td>...</td>\n",
       "      <td>...</td>\n",
       "      <td>...</td>\n",
       "      <td>...</td>\n",
       "      <td>...</td>\n",
       "      <td>...</td>\n",
       "      <td>...</td>\n",
       "    </tr>\n",
       "    <tr>\n",
       "      <th>495</th>\n",
       "      <td>805</td>\n",
       "      <td>0</td>\n",
       "      <td>0.8</td>\n",
       "      <td>0</td>\n",
       "      <td>1</td>\n",
       "      <td>0</td>\n",
       "      <td>34</td>\n",
       "      <td>0.6</td>\n",
       "      <td>88</td>\n",
       "      <td>6</td>\n",
       "      <td>2</td>\n",
       "      <td>1262</td>\n",
       "      <td>1538</td>\n",
       "      <td>3647</td>\n",
       "      <td>18</td>\n",
       "      <td>11</td>\n",
       "      <td>9</td>\n",
       "      <td>1</td>\n",
       "      <td>0</td>\n",
       "      <td>1</td>\n",
       "    </tr>\n",
       "    <tr>\n",
       "      <th>496</th>\n",
       "      <td>1162</td>\n",
       "      <td>0</td>\n",
       "      <td>1.0</td>\n",
       "      <td>0</td>\n",
       "      <td>0</td>\n",
       "      <td>0</td>\n",
       "      <td>50</td>\n",
       "      <td>0.5</td>\n",
       "      <td>104</td>\n",
       "      <td>4</td>\n",
       "      <td>10</td>\n",
       "      <td>332</td>\n",
       "      <td>866</td>\n",
       "      <td>1404</td>\n",
       "      <td>10</td>\n",
       "      <td>3</td>\n",
       "      <td>15</td>\n",
       "      <td>1</td>\n",
       "      <td>1</td>\n",
       "      <td>1</td>\n",
       "    </tr>\n",
       "    <tr>\n",
       "      <th>497</th>\n",
       "      <td>1759</td>\n",
       "      <td>1</td>\n",
       "      <td>1.4</td>\n",
       "      <td>0</td>\n",
       "      <td>10</td>\n",
       "      <td>1</td>\n",
       "      <td>15</td>\n",
       "      <td>0.4</td>\n",
       "      <td>101</td>\n",
       "      <td>4</td>\n",
       "      <td>13</td>\n",
       "      <td>382</td>\n",
       "      <td>1163</td>\n",
       "      <td>2107</td>\n",
       "      <td>18</td>\n",
       "      <td>5</td>\n",
       "      <td>16</td>\n",
       "      <td>1</td>\n",
       "      <td>1</td>\n",
       "      <td>0</td>\n",
       "    </tr>\n",
       "    <tr>\n",
       "      <th>498</th>\n",
       "      <td>514</td>\n",
       "      <td>1</td>\n",
       "      <td>1.6</td>\n",
       "      <td>0</td>\n",
       "      <td>7</td>\n",
       "      <td>1</td>\n",
       "      <td>37</td>\n",
       "      <td>0.1</td>\n",
       "      <td>172</td>\n",
       "      <td>1</td>\n",
       "      <td>9</td>\n",
       "      <td>956</td>\n",
       "      <td>1723</td>\n",
       "      <td>3392</td>\n",
       "      <td>12</td>\n",
       "      <td>8</td>\n",
       "      <td>5</td>\n",
       "      <td>1</td>\n",
       "      <td>1</td>\n",
       "      <td>1</td>\n",
       "    </tr>\n",
       "    <tr>\n",
       "      <th>499</th>\n",
       "      <td>1410</td>\n",
       "      <td>1</td>\n",
       "      <td>0.5</td>\n",
       "      <td>1</td>\n",
       "      <td>0</td>\n",
       "      <td>1</td>\n",
       "      <td>15</td>\n",
       "      <td>0.3</td>\n",
       "      <td>92</td>\n",
       "      <td>3</td>\n",
       "      <td>1</td>\n",
       "      <td>192</td>\n",
       "      <td>1311</td>\n",
       "      <td>2304</td>\n",
       "      <td>18</td>\n",
       "      <td>4</td>\n",
       "      <td>18</td>\n",
       "      <td>1</td>\n",
       "      <td>1</td>\n",
       "      <td>0</td>\n",
       "    </tr>\n",
       "  </tbody>\n",
       "</table>\n",
       "<p>500 rows × 20 columns</p>\n",
       "</div>"
      ],
      "text/plain": [
       "     daya_baterai  bluetooth  kecepatan_clock  dual_sim  kamera_depan  four_g  \\\n",
       "0            1454          1              0.5         1             1       0   \n",
       "1            1092          1              0.5         1            10       0   \n",
       "2            1524          1              1.8         1             0       0   \n",
       "3            1807          1              2.1         0             2       0   \n",
       "4            1086          1              1.7         1             0       1   \n",
       "..            ...        ...              ...       ...           ...     ...   \n",
       "495           805          0              0.8         0             1       0   \n",
       "496          1162          0              1.0         0             0       0   \n",
       "497          1759          1              1.4         0            10       1   \n",
       "498           514          1              1.6         0             7       1   \n",
       "499          1410          1              0.5         1             0       1   \n",
       "\n",
       "     memori_internal  tebal_hp  berat_hp  jumlah_prosesor  kamera_belakang_mp  \\\n",
       "0                 34       0.7        83                4                   3   \n",
       "1                 11       0.5       167                3                  14   \n",
       "2                 10       0.6       174                4                   1   \n",
       "3                 49       0.8       125                1                  10   \n",
       "4                 43       0.2       111                6                   1   \n",
       "..               ...       ...       ...              ...                 ...   \n",
       "495               34       0.6        88                6                   2   \n",
       "496               50       0.5       104                4                  10   \n",
       "497               15       0.4       101                4                  13   \n",
       "498               37       0.1       172                1                   9   \n",
       "499               15       0.3        92                3                   1   \n",
       "\n",
       "     px_panjang  px_lebar  kapasitas_ram  panjang_layar  lebar_layar  \\\n",
       "0           250      1033           3419              7            5   \n",
       "1           468       571            737             14            4   \n",
       "2           154       550           2678             16            5   \n",
       "3           337      1384           1906             17           13   \n",
       "4            56      1150           3285             11            5   \n",
       "..          ...       ...            ...            ...          ...   \n",
       "495        1262      1538           3647             18           11   \n",
       "496         332       866           1404             10            3   \n",
       "497         382      1163           2107             18            5   \n",
       "498         956      1723           3392             12            8   \n",
       "499         192      1311           2304             18            4   \n",
       "\n",
       "     waktu_telfon  three_g  touch_screen  wifi  \n",
       "0               5        1             1     0  \n",
       "1              11        0             1     0  \n",
       "2              13        1             0     1  \n",
       "3              13        0             1     1  \n",
       "4              17        1             1     0  \n",
       "..            ...      ...           ...   ...  \n",
       "495             9        1             0     1  \n",
       "496            15        1             1     1  \n",
       "497            16        1             1     0  \n",
       "498             5        1             1     1  \n",
       "499            18        1             1     0  \n",
       "\n",
       "[500 rows x 20 columns]"
      ]
     },
     "execution_count": 18,
     "metadata": {},
     "output_type": "execute_result"
    }
   ],
   "source": [
    "# Keterangan :\n",
    "#              x = data df_train kecuali kolom 'price_range'\n",
    "#              y = kolom 'price_range' dari df_train\n",
    "\n",
    "x = df_train.drop('price_range', axis = 1).drop('index', axis = 1)\n",
    "y = df_train['price_range']\n",
    "\n",
    "x_test = df_test.drop('index', axis = 1).copy()\n",
    "x_test"
   ]
  },
  {
   "cell_type": "code",
   "execution_count": 19,
   "metadata": {},
   "outputs": [],
   "source": [
    "from sklearn.model_selection import train_test_split\n",
    "x_train, x_valid, y_train, y_valid = train_test_split(x, y, test_size = 0.2, random_state = 1, stratify = y)"
   ]
  },
  {
   "cell_type": "code",
   "execution_count": 20,
   "metadata": {},
   "outputs": [
    {
     "name": "stdout",
     "output_type": "stream",
     "text": [
      "(1200, 20)\n",
      "(1200,)\n",
      "(300, 20)\n",
      "(300,)\n"
     ]
    }
   ],
   "source": [
    "# memeriksa hasil split\n",
    "print(x_train.shape)\n",
    "print(y_train.shape)\n",
    "print(x_valid.shape)\n",
    "print(y_valid.shape)"
   ]
  },
  {
   "cell_type": "markdown",
   "metadata": {},
   "source": [
    "## Algoritma Machine Learning"
   ]
  },
  {
   "cell_type": "markdown",
   "metadata": {},
   "source": [
    "#### Untuk melakukan prediksi, algoritma akan diaplikasikan pada dataset 'train' dan 'valid'. Algoritma yang digunakan juga akan di-tuning hyperparameternya dengan fungsi GridSearchCV\n",
    "\n",
    "#### Algoritma yang digunakan & dibandingkan adalah :\n",
    "- Random Forest\n",
    "- KNN\n",
    "- Naive Bayes"
   ]
  },
  {
   "cell_type": "markdown",
   "metadata": {},
   "source": [
    "### Random Forest Classifier"
   ]
  },
  {
   "cell_type": "code",
   "execution_count": 21,
   "metadata": {},
   "outputs": [],
   "source": [
    "# Import library algoritma Random Forest & fungsi GridSearchCV\n",
    "from sklearn.metrics import make_scorer, f1_score, confusion_matrix, accuracy_score\n",
    "from sklearn.ensemble import RandomForestClassifier\n",
    "from sklearn.model_selection import GridSearchCV\n",
    "\n",
    "rfc = RandomForestClassifier()\n",
    "\n",
    "# Membuat dictionary parameter Random Forest untuk Cross Validation\n",
    "params = {'n_estimators' : np.arange(100,200,10),\n",
    "          'criterion' : ['gini','entropy'],          \n",
    "          'max_features' : ['auto','sqrt','log2']\n",
    "         }\n",
    "\n",
    "# Ketentuan scoring = fmean score / f1_score\n",
    "scoring = make_scorer(f1_score, average = ('micro'))"
   ]
  },
  {
   "cell_type": "code",
   "execution_count": 22,
   "metadata": {},
   "outputs": [],
   "source": [
    "gscv_rfc = GridSearchCV(rfc, params, scoring = scoring , cv= 10)"
   ]
  },
  {
   "cell_type": "code",
   "execution_count": 23,
   "metadata": {},
   "outputs": [],
   "source": [
    "#gscv_rfc.fit(x_train,y_train) \n",
    "# ------------------ DIBERI TAGAR KARENA RUN MEMAKAN WAKTU LAMA ----------------------"
   ]
  },
  {
   "cell_type": "code",
   "execution_count": 24,
   "metadata": {},
   "outputs": [],
   "source": [
    "# Hasil running :\n",
    "\n",
    "# GridSearchCV(cv=10, estimator=RandomForestClassifier(),\n",
    "#             param_grid={'criterion': ['gini', 'entropy'],\n",
    "#                         'max_features': ['auto', 'sqrt', 'log2'],\n",
    "#                         'n_estimators': array([ 50,  51,  52,  53,  54,  55,  56,  57,  58,  59,  60,  61,  62,\n",
    "#        63,  64,  65,  66,  67,  68,  69,  70,  71,  72,  73,  74,  75,\n",
    "#        76,  77,  78,  79,  80,  81,  82,  83,  84,  85,  86,  87,  88,\n",
    "#        89,  90,  91,  92,  93,  94,  95,  96,  97,  98,  99, 100, 101,\n",
    "#       102, 103, 104, 105, 106, 107, 108, 109, 110...\n",
    "#       115, 116, 117, 118, 119, 120, 121, 122, 123, 124, 125, 126, 127,\n",
    "#       128, 129, 130, 131, 132, 133, 134, 135, 136, 137, 138, 139, 140,\n",
    "#       141, 142, 143, 144, 145, 146, 147, 148, 149, 150, 151, 152, 153,\n",
    "#       154, 155, 156, 157, 158, 159, 160, 161, 162, 163, 164, 165, 166,\n",
    "#       167, 168, 169, 170, 171, 172, 173, 174, 175, 176, 177, 178, 179,\n",
    "#       180, 181, 182, 183, 184, 185, 186, 187, 188, 189, 190, 191, 192,\n",
    "#       193, 194, 195, 196, 197, 198, 199])},\n",
    "#             scoring=make_scorer(f1_score, average=micro))"
   ]
  },
  {
   "cell_type": "code",
   "execution_count": 25,
   "metadata": {},
   "outputs": [],
   "source": [
    "# Mengambil hyperparameter terbaik dan score validasi terbaik dari hasil GridSearchCV\n",
    "\n",
    "# print(gscv_rfc.best_params_)\n",
    "# print(gscv_rfc.best_score_)"
   ]
  },
  {
   "cell_type": "code",
   "execution_count": 26,
   "metadata": {},
   "outputs": [],
   "source": [
    "# Hasil Running cell di atas :\n",
    "# {'criterion': 'entropy', 'max_features': 'log2', 'n_estimators': 165}\n",
    "# 0.8808333333333334"
   ]
  },
  {
   "cell_type": "code",
   "execution_count": 23,
   "metadata": {},
   "outputs": [],
   "source": [
    "# Membuat model dengan tuning hyperparameter\n",
    "model_rfc = RandomForestClassifier(n_estimators = 165, criterion = 'entropy', max_features = 'log2')\n",
    "train_rfc = model_rfc.fit(x_train, y_train)"
   ]
  },
  {
   "cell_type": "code",
   "execution_count": 24,
   "metadata": {},
   "outputs": [],
   "source": [
    "y_pred_rfc =  model_rfc.predict(x_valid)"
   ]
  },
  {
   "cell_type": "code",
   "execution_count": 26,
   "metadata": {},
   "outputs": [
    {
     "name": "stdout",
     "output_type": "stream",
     "text": [
      "0.9066666666666666\n",
      "0.9077407604922371\n",
      "0.9069191712868397\n",
      "0.9066666666666666\n",
      "[[66  9  0  0]\n",
      " [ 4 70  4  0]\n",
      " [ 0  4 67  4]\n",
      " [ 0  0  3 69]]\n"
     ]
    }
   ],
   "source": [
    "f1_score_rfc_micro = f1_score(y_valid, y_pred_rfc, average = 'micro')\n",
    "print(f1_score_rfc_micro)\n",
    "\n",
    "f1_score_rfc_macro = f1_score(y_valid, y_pred_rfc, average = 'macro')\n",
    "print(f1_score_rfc_macro)\n",
    "\n",
    "f1_score_rfc_weighted = f1_score(y_valid, y_pred_rfc, average = 'weighted')\n",
    "print(f1_score_rfc_weighted)\n",
    "\n",
    "acc_rfc = accuracy_score(y_valid, y_pred_rfc)\n",
    "print(acc_rfc)\n",
    "\n",
    "cf_rfc = confusion_matrix(y_valid, y_pred_rfc)\n",
    "print(cf_rfc)"
   ]
  },
  {
   "cell_type": "markdown",
   "metadata": {},
   "source": [
    "### KNN"
   ]
  },
  {
   "cell_type": "code",
   "execution_count": 27,
   "metadata": {},
   "outputs": [],
   "source": [
    "# Import library algoritma Random Forest\n",
    "from sklearn.neighbors import KNeighborsClassifier\n",
    "\n",
    "knn = KNeighborsClassifier()\n",
    "\n",
    "params_knn = {'n_neighbors' : np.arange(90, 200,10), \n",
    "          'weights' : ['uniform', 'distance'], \n",
    "          'algorithm' : ['auto', 'ball_tree', 'kd_tree', 'brute'],  \n",
    "          }"
   ]
  },
  {
   "cell_type": "code",
   "execution_count": 28,
   "metadata": {},
   "outputs": [],
   "source": [
    "gscv_knn = GridSearchCV(knn, params_knn, cv = 10)"
   ]
  },
  {
   "cell_type": "code",
   "execution_count": 50,
   "metadata": {},
   "outputs": [],
   "source": [
    "# gscv_knn.fit(x_train, y_train)\n",
    "# ------------------ DIBERI TAGAR KARENA RUN MEMAKAN WAKTU LAMA ----------------------"
   ]
  },
  {
   "cell_type": "code",
   "execution_count": 51,
   "metadata": {},
   "outputs": [],
   "source": [
    "# Hasil running :\n",
    "\n",
    "#GridSearchCV(cv=10, estimator=KNeighborsClassifier(),\n",
    "#             param_grid={'algorithm': ['auto', 'ball_tree', 'kd_tree', 'brute'],\n",
    "#                         'n_neighbors': array([ 90, 100, 110, 120, 130, 140, 150, 160, 170, 180, 190]),\n",
    "#                         'weights': ['uniform', 'distance']})"
   ]
  },
  {
   "cell_type": "code",
   "execution_count": 52,
   "metadata": {},
   "outputs": [],
   "source": [
    "# Mengambil hyperparameter terbaik dan score validasi terbaik dari hasil GridSearchCV\n",
    "#print(gscv_knn.best_params_)"
   ]
  },
  {
   "cell_type": "code",
   "execution_count": 53,
   "metadata": {},
   "outputs": [],
   "source": [
    "# Hasil running cell di atas :\n",
    "\n",
    "#{'algorithm': 'auto', 'n_neighbors': 90, 'weights': 'distance'}"
   ]
  },
  {
   "cell_type": "code",
   "execution_count": 29,
   "metadata": {},
   "outputs": [
    {
     "data": {
      "text/plain": [
       "KNeighborsClassifier(n_neighbors=90, weights='distance')"
      ]
     },
     "execution_count": 29,
     "metadata": {},
     "output_type": "execute_result"
    }
   ],
   "source": [
    "# Membuat model dengan tuning hyperparameter\n",
    "model_knn = KNeighborsClassifier(algorithm =  'auto', n_neighbors = 90, weights = 'distance')\n",
    "model_knn.fit(x_train, y_train)"
   ]
  },
  {
   "cell_type": "code",
   "execution_count": 30,
   "metadata": {},
   "outputs": [],
   "source": [
    "y_pred_knn =  model_knn.predict(x_valid)"
   ]
  },
  {
   "cell_type": "code",
   "execution_count": 31,
   "metadata": {},
   "outputs": [
    {
     "name": "stdout",
     "output_type": "stream",
     "text": [
      "0.9466666666666667\n",
      "0.9469965070127521\n",
      "0.9469194589737638\n",
      "0.9466666666666667\n",
      "[[73  2  0  0]\n",
      " [ 2 73  3  0]\n",
      " [ 0  2 72  1]\n",
      " [ 0  0  6 66]]\n"
     ]
    }
   ],
   "source": [
    "f1_score_knn_micro = f1_score(y_valid, y_pred_knn, average = 'micro')\n",
    "print(f1_score_knn_micro)\n",
    "\n",
    "f1_score_knn_macro = f1_score(y_valid, y_pred_knn, average = 'macro')\n",
    "print(f1_score_knn_macro)\n",
    "\n",
    "f1_score_knn_weighted = f1_score(y_valid, y_pred_knn, average = 'weighted')\n",
    "print(f1_score_knn_weighted)\n",
    "\n",
    "acc_knn = accuracy_score(y_valid, y_pred_knn)\n",
    "print(acc_knn)\n",
    "\n",
    "cf_knn = confusion_matrix(y_valid, y_pred_knn)\n",
    "print(cf_knn)"
   ]
  },
  {
   "cell_type": "markdown",
   "metadata": {},
   "source": [
    "### Naive Bayes"
   ]
  },
  {
   "cell_type": "code",
   "execution_count": 32,
   "metadata": {},
   "outputs": [],
   "source": [
    "from sklearn.svm import SVC \n",
    "from sklearn.model_selection import GridSearchCV\n",
    "from sklearn.metrics import make_scorer, f1_score, confusion_matrix, accuracy_score"
   ]
  },
  {
   "cell_type": "code",
   "execution_count": 33,
   "metadata": {},
   "outputs": [],
   "source": [
    "svc = SVC()\n",
    "\n",
    "# Ketentuan scoring = fmean score / f1_score\n",
    "scoring = make_scorer(f1_score, average = ('micro'))\n",
    "\n",
    "params_NB = {'C' : [0.05,0.1,0.2,0.25,0.3,0.4,0.5,0.6,0.7,0.8,0.9,1],\n",
    "             'gamma' : [0.1,0.2,0.3,0.4,0.5,0.6,0.7,0.8,0.9,1.0],\n",
    "             'kernel': ['rbf','linear']\n",
    "            }\n",
    "\n",
    "gscv_NB = GridSearchCV(svc, params_NB, scoring = scoring, cv = 10)"
   ]
  },
  {
   "cell_type": "code",
   "execution_count": 34,
   "metadata": {},
   "outputs": [],
   "source": [
    "# gscv_NB.fit(x_train, y_train)\n",
    "# ------------------ DIBERI TAGAR KARENA RUN MEMAKAN WAKTU LAMA ----------------------"
   ]
  },
  {
   "cell_type": "code",
   "execution_count": 35,
   "metadata": {},
   "outputs": [],
   "source": [
    "#print(gscv_NB.best_params_)\n",
    "#print(gscv_NB.best_score_)"
   ]
  },
  {
   "cell_type": "code",
   "execution_count": null,
   "metadata": {},
   "outputs": [],
   "source": [
    "# # Hasil running cell di atas :\n",
    "\n",
    "# {'C': 0.05, 'gamma': 0.1, 'kernel': 'linear'}\n",
    "# 0.9783333333333333"
   ]
  },
  {
   "cell_type": "code",
   "execution_count": 34,
   "metadata": {},
   "outputs": [
    {
     "data": {
      "text/plain": [
       "SVC(C=0.05, gamma=0.1, kernel='linear')"
      ]
     },
     "execution_count": 34,
     "metadata": {},
     "output_type": "execute_result"
    }
   ],
   "source": [
    "model_NB = SVC(C = 0.05, gamma = 0.1, kernel = 'linear')\n",
    "model_NB.fit(x_train, y_train)"
   ]
  },
  {
   "cell_type": "code",
   "execution_count": 35,
   "metadata": {},
   "outputs": [],
   "source": [
    "y_pred_NB =  model_NB.predict(x_valid)"
   ]
  },
  {
   "cell_type": "code",
   "execution_count": 36,
   "metadata": {},
   "outputs": [
    {
     "name": "stdout",
     "output_type": "stream",
     "text": [
      "0.97\n",
      "0.9701594415216706\n",
      "0.9699744948893556\n",
      "0.97\n",
      "[[75  0  0  0]\n",
      " [ 2 73  3  0]\n",
      " [ 0  1 73  1]\n",
      " [ 0  0  2 70]]\n"
     ]
    }
   ],
   "source": [
    "f1_score_NB_micro = f1_score(y_valid, y_pred_NB, average = 'micro')\n",
    "print(f1_score_NB_micro)\n",
    "\n",
    "f1_score_NB_macro = f1_score(y_valid, y_pred_NB, average = 'macro')\n",
    "print(f1_score_NB_macro)\n",
    "\n",
    "f1_score_NB_weighted = f1_score(y_valid, y_pred_NB, average = 'weighted')\n",
    "print(f1_score_NB_weighted)\n",
    "\n",
    "acc_NB = accuracy_score(y_valid, y_pred_NB)\n",
    "print(acc_NB)\n",
    "\n",
    "cf_NB = confusion_matrix(y_valid, y_pred_NB)\n",
    "print(cf_NB)"
   ]
  },
  {
   "cell_type": "markdown",
   "metadata": {},
   "source": [
    "## Membandingkan Hasil Prediksi"
   ]
  },
  {
   "cell_type": "code",
   "execution_count": 37,
   "metadata": {},
   "outputs": [],
   "source": [
    "import matplotlib.pyplot as plt"
   ]
  },
  {
   "cell_type": "code",
   "execution_count": 38,
   "metadata": {},
   "outputs": [],
   "source": [
    "labels = ['f1_micro','f1_macro','f1_weighted', 'Accuracy']\n",
    "random_forest = [f1_score_rfc_micro, f1_score_rfc_macro, f1_score_rfc_weighted, acc_rfc]\n",
    "knn = [f1_score_knn_micro, f1_score_knn_macro, f1_score_knn_weighted, acc_knn]\n",
    "naive_bayes = [f1_score_NB_micro, f1_score_NB_macro, f1_score_NB_weighted, acc_NB]"
   ]
  },
  {
   "cell_type": "code",
   "execution_count": 40,
   "metadata": {},
   "outputs": [
    {
     "data": {
      "image/png": "[encoded data removed]",
      "text/plain": [
       "<Figure size 1152x576 with 1 Axes>"
      ]
     },
     "metadata": {
      "needs_background": "light"
     },
     "output_type": "display_data"
    }
   ],
   "source": [
    "x = 2*np.arange(len(labels))  # the label locations\n",
    "width = 0.3  # the width of the bars\n",
    "\n",
    "fig, ax = plt.subplots(figsize=(16,8))\n",
    "rects1 = ax.bar(x - width, random_forest, width, label='Random Forest')\n",
    "rects2 = ax.bar(x , knn, width, label='KNN')\n",
    "rects3 = ax.bar(x + width, naive_bayes, width, label='Naive_bayes')\n",
    "\n",
    "\n",
    "def autolabel(rects):\n",
    "    \"\"\"Attach a text label above each bar in *rects*, displaying its height.\"\"\"\n",
    "    for rect in rects:\n",
    "        height = rect.get_height()\n",
    "        ax.annotate('{:.2f}'.format(height),\n",
    "                    xy=(rect.get_x() + rect.get_width() / 2, height),\n",
    "                    xytext=(0, 3),  # 3 points vertical offset\n",
    "                    textcoords=\"offset points\",\n",
    "                    ha='center', va='bottom')\n",
    "\n",
    "  \n",
    "autolabel(rects1)\n",
    "autolabel(rects2)\n",
    "autolabel(rects3)\n",
    "ax.set_ylabel('Scores')\n",
    "ax.set_title('f1_Scores & Accuracy by Algorithm')\n",
    "ax.set_xticks(x)\n",
    "ax.set_xticklabels(labels)\n",
    "ax.legend(loc='center')\n",
    "plt.show()"
   ]
  },
  {
   "cell_type": "markdown",
   "metadata": {},
   "source": [
    "#### Dari grafik di atas, dapat disimpulkan bahwa Algoritma Naive Bayes menghasilkan nilai fmean score / f1 score yang terbaik (Konsisten di angka 97 %). \n",
    "\n",
    "#### Langkah selanjutnya adalah memprediksi nilai 'price_range' untuk DataFrame 'df_test'"
   ]
  },
  {
   "cell_type": "markdown",
   "metadata": {},
   "source": [
    "---"
   ]
  },
  {
   "cell_type": "markdown",
   "metadata": {},
   "source": [
    "# Run algoritma Naive Bayes kedalam dataset 'df_test'"
   ]
  },
  {
   "cell_type": "code",
   "execution_count": 41,
   "metadata": {},
   "outputs": [
    {
     "data": {
      "text/plain": [
       "array([3, 0, 2, 2, 2, 0, 0, 3, 3, 1, 1, 3, 0, 2, 3, 0, 3, 2, 2, 1, 0, 0,\n",
       "       3, 1, 2, 2, 3, 1, 3, 1, 1, 0, 2, 0, 1, 3, 0, 0, 3, 3, 2, 1, 3, 3,\n",
       "       1, 3, 0, 1, 3, 1, 1, 3, 0, 3, 0, 2, 2, 2, 0, 3, 3, 1, 3, 2, 1, 2,\n",
       "       3, 2, 2, 2, 3, 2, 1, 0, 1, 3, 2, 2, 1, 2, 3, 3, 3, 0, 0, 0, 2, 1,\n",
       "       2, 3, 1, 2, 2, 1, 0, 3, 3, 3, 0, 3, 1, 1, 3, 1, 3, 2, 2, 3, 2, 3,\n",
       "       3, 0, 0, 1, 3, 3, 0, 0, 1, 0, 0, 3, 2, 2, 1, 1, 1, 1, 0, 2, 1, 3,\n",
       "       3, 3, 3, 3, 3, 2, 0, 1, 1, 2, 1, 3, 1, 3, 0, 0, 2, 0, 1, 1, 1, 1,\n",
       "       3, 0, 0, 3, 1, 3, 2, 1, 3, 1, 2, 3, 3, 2, 1, 0, 3, 1, 1, 3, 3, 0,\n",
       "       2, 2, 3, 0, 2, 1, 0, 1, 2, 1, 2, 0, 3, 3, 1, 1, 0, 2, 3, 0, 1, 3,\n",
       "       2, 0, 3, 3, 3, 1, 2, 3, 3, 3, 0, 0, 0, 2, 3, 3, 0, 0, 1, 3, 2, 3,\n",
       "       3, 3, 0, 0, 2, 2, 3, 1, 0, 2, 0, 0, 0, 3, 2, 0, 2, 2, 1, 1, 0, 2,\n",
       "       3, 3, 0, 0, 1, 3, 3, 2, 3, 0, 3, 1, 1, 0, 2, 3, 3, 2, 0, 0, 1, 2,\n",
       "       3, 2, 2, 3, 2, 1, 0, 3, 3, 2, 1, 3, 2, 2, 2, 1, 0, 2, 1, 1, 0, 0,\n",
       "       2, 2, 2, 2, 0, 1, 3, 0, 2, 2, 3, 0, 2, 0, 1, 1, 3, 0, 0, 1, 3, 1,\n",
       "       2, 0, 2, 0, 3, 0, 3, 3, 2, 3, 1, 2, 2, 1, 1, 1, 0, 1, 0, 3, 1, 0,\n",
       "       3, 0, 0, 1, 3, 0, 3, 1, 2, 0, 1, 3, 0, 2, 2, 1, 2, 1, 1, 0, 2, 0,\n",
       "       0, 3, 1, 2, 3, 2, 2, 0, 3, 2, 2, 1, 3, 2, 3, 3, 3, 0, 2, 0, 3, 0,\n",
       "       1, 1, 2, 2, 1, 3, 1, 2, 0, 1, 2, 3, 0, 0, 1, 3, 0, 3, 0, 2, 2, 1,\n",
       "       1, 0, 2, 0, 0, 1, 3, 0, 3, 3, 0, 2, 1, 3, 1, 1, 3, 2, 0, 3, 2, 2,\n",
       "       0, 0, 3, 0, 1, 1, 1, 3, 2, 3, 2, 0, 3, 0, 0, 1, 3, 0, 0, 3, 2, 2,\n",
       "       2, 3, 0, 0, 1, 2, 1, 2, 0, 3, 3, 0, 3, 3, 0, 2, 2, 1, 0, 2, 2, 1,\n",
       "       3, 2, 2, 0, 2, 0, 3, 3, 2, 1, 0, 3, 1, 2, 0, 0, 1, 3, 0, 3, 0, 0,\n",
       "       1, 2, 0, 1, 3, 0, 2, 2, 1, 2, 0, 3, 0, 2, 3, 2])"
      ]
     },
     "execution_count": 41,
     "metadata": {},
     "output_type": "execute_result"
    }
   ],
   "source": [
    "# Melakukan Prediksi\n",
    "\n",
    "price_range_pred_NB = model_NB.predict(x_test)\n",
    "price_range_pred_NB"
   ]
  },
  {
   "cell_type": "code",
   "execution_count": 42,
   "metadata": {},
   "outputs": [
    {
     "data": {
      "text/html": [
       "<div>\n",
       "<style scoped>\n",
       "    .dataframe tbody tr th:only-of-type {\n",
       "        vertical-align: middle;\n",
       "    }\n",
       "\n",
       "    .dataframe tbody tr th {\n",
       "        vertical-align: top;\n",
       "    }\n",
       "\n",
       "    .dataframe thead th {\n",
       "        text-align: right;\n",
       "    }\n",
       "</style>\n",
       "<table border=\"1\" class=\"dataframe\">\n",
       "  <thead>\n",
       "    <tr style=\"text-align: right;\">\n",
       "      <th></th>\n",
       "      <th>index</th>\n",
       "      <th>daya_baterai</th>\n",
       "      <th>bluetooth</th>\n",
       "      <th>kecepatan_clock</th>\n",
       "      <th>dual_sim</th>\n",
       "      <th>kamera_depan</th>\n",
       "      <th>four_g</th>\n",
       "      <th>memori_internal</th>\n",
       "      <th>tebal_hp</th>\n",
       "      <th>berat_hp</th>\n",
       "      <th>...</th>\n",
       "      <th>px_panjang</th>\n",
       "      <th>px_lebar</th>\n",
       "      <th>kapasitas_ram</th>\n",
       "      <th>panjang_layar</th>\n",
       "      <th>lebar_layar</th>\n",
       "      <th>waktu_telfon</th>\n",
       "      <th>three_g</th>\n",
       "      <th>touch_screen</th>\n",
       "      <th>wifi</th>\n",
       "      <th>price_range</th>\n",
       "    </tr>\n",
       "  </thead>\n",
       "  <tbody>\n",
       "    <tr>\n",
       "      <th>0</th>\n",
       "      <td>405</td>\n",
       "      <td>1454</td>\n",
       "      <td>1</td>\n",
       "      <td>0.5</td>\n",
       "      <td>1</td>\n",
       "      <td>1</td>\n",
       "      <td>0</td>\n",
       "      <td>34</td>\n",
       "      <td>0.7</td>\n",
       "      <td>83</td>\n",
       "      <td>...</td>\n",
       "      <td>250</td>\n",
       "      <td>1033</td>\n",
       "      <td>3419</td>\n",
       "      <td>7</td>\n",
       "      <td>5</td>\n",
       "      <td>5</td>\n",
       "      <td>1</td>\n",
       "      <td>1</td>\n",
       "      <td>0</td>\n",
       "      <td>3</td>\n",
       "    </tr>\n",
       "    <tr>\n",
       "      <th>1</th>\n",
       "      <td>1190</td>\n",
       "      <td>1092</td>\n",
       "      <td>1</td>\n",
       "      <td>0.5</td>\n",
       "      <td>1</td>\n",
       "      <td>10</td>\n",
       "      <td>0</td>\n",
       "      <td>11</td>\n",
       "      <td>0.5</td>\n",
       "      <td>167</td>\n",
       "      <td>...</td>\n",
       "      <td>468</td>\n",
       "      <td>571</td>\n",
       "      <td>737</td>\n",
       "      <td>14</td>\n",
       "      <td>4</td>\n",
       "      <td>11</td>\n",
       "      <td>0</td>\n",
       "      <td>1</td>\n",
       "      <td>0</td>\n",
       "      <td>0</td>\n",
       "    </tr>\n",
       "    <tr>\n",
       "      <th>2</th>\n",
       "      <td>1132</td>\n",
       "      <td>1524</td>\n",
       "      <td>1</td>\n",
       "      <td>1.8</td>\n",
       "      <td>1</td>\n",
       "      <td>0</td>\n",
       "      <td>0</td>\n",
       "      <td>10</td>\n",
       "      <td>0.6</td>\n",
       "      <td>174</td>\n",
       "      <td>...</td>\n",
       "      <td>154</td>\n",
       "      <td>550</td>\n",
       "      <td>2678</td>\n",
       "      <td>16</td>\n",
       "      <td>5</td>\n",
       "      <td>13</td>\n",
       "      <td>1</td>\n",
       "      <td>0</td>\n",
       "      <td>1</td>\n",
       "      <td>2</td>\n",
       "    </tr>\n",
       "    <tr>\n",
       "      <th>3</th>\n",
       "      <td>731</td>\n",
       "      <td>1807</td>\n",
       "      <td>1</td>\n",
       "      <td>2.1</td>\n",
       "      <td>0</td>\n",
       "      <td>2</td>\n",
       "      <td>0</td>\n",
       "      <td>49</td>\n",
       "      <td>0.8</td>\n",
       "      <td>125</td>\n",
       "      <td>...</td>\n",
       "      <td>337</td>\n",
       "      <td>1384</td>\n",
       "      <td>1906</td>\n",
       "      <td>17</td>\n",
       "      <td>13</td>\n",
       "      <td>13</td>\n",
       "      <td>0</td>\n",
       "      <td>1</td>\n",
       "      <td>1</td>\n",
       "      <td>2</td>\n",
       "    </tr>\n",
       "    <tr>\n",
       "      <th>4</th>\n",
       "      <td>1754</td>\n",
       "      <td>1086</td>\n",
       "      <td>1</td>\n",
       "      <td>1.7</td>\n",
       "      <td>1</td>\n",
       "      <td>0</td>\n",
       "      <td>1</td>\n",
       "      <td>43</td>\n",
       "      <td>0.2</td>\n",
       "      <td>111</td>\n",
       "      <td>...</td>\n",
       "      <td>56</td>\n",
       "      <td>1150</td>\n",
       "      <td>3285</td>\n",
       "      <td>11</td>\n",
       "      <td>5</td>\n",
       "      <td>17</td>\n",
       "      <td>1</td>\n",
       "      <td>1</td>\n",
       "      <td>0</td>\n",
       "      <td>2</td>\n",
       "    </tr>\n",
       "    <tr>\n",
       "      <th>...</th>\n",
       "      <td>...</td>\n",
       "      <td>...</td>\n",
       "      <td>...</td>\n",
       "      <td>...</td>\n",
       "      <td>...</td>\n",
       "      <td>...</td>\n",
       "      <td>...</td>\n",
       "      <td>...</td>\n",
       "      <td>...</td>\n",
       "      <td>...</td>\n",
       "      <td>...</td>\n",
       "      <td>...</td>\n",
       "      <td>...</td>\n",
       "      <td>...</td>\n",
       "      <td>...</td>\n",
       "      <td>...</td>\n",
       "      <td>...</td>\n",
       "      <td>...</td>\n",
       "      <td>...</td>\n",
       "      <td>...</td>\n",
       "      <td>...</td>\n",
       "    </tr>\n",
       "    <tr>\n",
       "      <th>495</th>\n",
       "      <td>936</td>\n",
       "      <td>805</td>\n",
       "      <td>0</td>\n",
       "      <td>0.8</td>\n",
       "      <td>0</td>\n",
       "      <td>1</td>\n",
       "      <td>0</td>\n",
       "      <td>34</td>\n",
       "      <td>0.6</td>\n",
       "      <td>88</td>\n",
       "      <td>...</td>\n",
       "      <td>1262</td>\n",
       "      <td>1538</td>\n",
       "      <td>3647</td>\n",
       "      <td>18</td>\n",
       "      <td>11</td>\n",
       "      <td>9</td>\n",
       "      <td>1</td>\n",
       "      <td>0</td>\n",
       "      <td>1</td>\n",
       "      <td>3</td>\n",
       "    </tr>\n",
       "    <tr>\n",
       "      <th>496</th>\n",
       "      <td>1524</td>\n",
       "      <td>1162</td>\n",
       "      <td>0</td>\n",
       "      <td>1.0</td>\n",
       "      <td>0</td>\n",
       "      <td>0</td>\n",
       "      <td>0</td>\n",
       "      <td>50</td>\n",
       "      <td>0.5</td>\n",
       "      <td>104</td>\n",
       "      <td>...</td>\n",
       "      <td>332</td>\n",
       "      <td>866</td>\n",
       "      <td>1404</td>\n",
       "      <td>10</td>\n",
       "      <td>3</td>\n",
       "      <td>15</td>\n",
       "      <td>1</td>\n",
       "      <td>1</td>\n",
       "      <td>1</td>\n",
       "      <td>0</td>\n",
       "    </tr>\n",
       "    <tr>\n",
       "      <th>497</th>\n",
       "      <td>1415</td>\n",
       "      <td>1759</td>\n",
       "      <td>1</td>\n",
       "      <td>1.4</td>\n",
       "      <td>0</td>\n",
       "      <td>10</td>\n",
       "      <td>1</td>\n",
       "      <td>15</td>\n",
       "      <td>0.4</td>\n",
       "      <td>101</td>\n",
       "      <td>...</td>\n",
       "      <td>382</td>\n",
       "      <td>1163</td>\n",
       "      <td>2107</td>\n",
       "      <td>18</td>\n",
       "      <td>5</td>\n",
       "      <td>16</td>\n",
       "      <td>1</td>\n",
       "      <td>1</td>\n",
       "      <td>0</td>\n",
       "      <td>2</td>\n",
       "    </tr>\n",
       "    <tr>\n",
       "      <th>498</th>\n",
       "      <td>1223</td>\n",
       "      <td>514</td>\n",
       "      <td>1</td>\n",
       "      <td>1.6</td>\n",
       "      <td>0</td>\n",
       "      <td>7</td>\n",
       "      <td>1</td>\n",
       "      <td>37</td>\n",
       "      <td>0.1</td>\n",
       "      <td>172</td>\n",
       "      <td>...</td>\n",
       "      <td>956</td>\n",
       "      <td>1723</td>\n",
       "      <td>3392</td>\n",
       "      <td>12</td>\n",
       "      <td>8</td>\n",
       "      <td>5</td>\n",
       "      <td>1</td>\n",
       "      <td>1</td>\n",
       "      <td>1</td>\n",
       "      <td>3</td>\n",
       "    </tr>\n",
       "    <tr>\n",
       "      <th>499</th>\n",
       "      <td>1548</td>\n",
       "      <td>1410</td>\n",
       "      <td>1</td>\n",
       "      <td>0.5</td>\n",
       "      <td>1</td>\n",
       "      <td>0</td>\n",
       "      <td>1</td>\n",
       "      <td>15</td>\n",
       "      <td>0.3</td>\n",
       "      <td>92</td>\n",
       "      <td>...</td>\n",
       "      <td>192</td>\n",
       "      <td>1311</td>\n",
       "      <td>2304</td>\n",
       "      <td>18</td>\n",
       "      <td>4</td>\n",
       "      <td>18</td>\n",
       "      <td>1</td>\n",
       "      <td>1</td>\n",
       "      <td>0</td>\n",
       "      <td>2</td>\n",
       "    </tr>\n",
       "  </tbody>\n",
       "</table>\n",
       "<p>500 rows × 22 columns</p>\n",
       "</div>"
      ],
      "text/plain": [
       "     index  daya_baterai  bluetooth  kecepatan_clock  dual_sim  kamera_depan  \\\n",
       "0      405          1454          1              0.5         1             1   \n",
       "1     1190          1092          1              0.5         1            10   \n",
       "2     1132          1524          1              1.8         1             0   \n",
       "3      731          1807          1              2.1         0             2   \n",
       "4     1754          1086          1              1.7         1             0   \n",
       "..     ...           ...        ...              ...       ...           ...   \n",
       "495    936           805          0              0.8         0             1   \n",
       "496   1524          1162          0              1.0         0             0   \n",
       "497   1415          1759          1              1.4         0            10   \n",
       "498   1223           514          1              1.6         0             7   \n",
       "499   1548          1410          1              0.5         1             0   \n",
       "\n",
       "     four_g  memori_internal  tebal_hp  berat_hp  ...  px_panjang  px_lebar  \\\n",
       "0         0               34       0.7        83  ...         250      1033   \n",
       "1         0               11       0.5       167  ...         468       571   \n",
       "2         0               10       0.6       174  ...         154       550   \n",
       "3         0               49       0.8       125  ...         337      1384   \n",
       "4         1               43       0.2       111  ...          56      1150   \n",
       "..      ...              ...       ...       ...  ...         ...       ...   \n",
       "495       0               34       0.6        88  ...        1262      1538   \n",
       "496       0               50       0.5       104  ...         332       866   \n",
       "497       1               15       0.4       101  ...         382      1163   \n",
       "498       1               37       0.1       172  ...         956      1723   \n",
       "499       1               15       0.3        92  ...         192      1311   \n",
       "\n",
       "     kapasitas_ram  panjang_layar  lebar_layar  waktu_telfon  three_g  \\\n",
       "0             3419              7            5             5        1   \n",
       "1              737             14            4            11        0   \n",
       "2             2678             16            5            13        1   \n",
       "3             1906             17           13            13        0   \n",
       "4             3285             11            5            17        1   \n",
       "..             ...            ...          ...           ...      ...   \n",
       "495           3647             18           11             9        1   \n",
       "496           1404             10            3            15        1   \n",
       "497           2107             18            5            16        1   \n",
       "498           3392             12            8             5        1   \n",
       "499           2304             18            4            18        1   \n",
       "\n",
       "     touch_screen  wifi  price_range  \n",
       "0               1     0            3  \n",
       "1               1     0            0  \n",
       "2               0     1            2  \n",
       "3               1     1            2  \n",
       "4               1     0            2  \n",
       "..            ...   ...          ...  \n",
       "495             0     1            3  \n",
       "496             1     1            0  \n",
       "497             1     0            2  \n",
       "498             1     1            3  \n",
       "499             1     0            2  \n",
       "\n",
       "[500 rows x 22 columns]"
      ]
     },
     "execution_count": 42,
     "metadata": {},
     "output_type": "execute_result"
    }
   ],
   "source": [
    "# Menambahkan kolom 'price_range' dengan data yang telah dibuat di atas\n",
    "\n",
    "df_test['price_range'] = price_range_pred_NB\n",
    "df_test"
   ]
  },
  {
   "cell_type": "code",
   "execution_count": 43,
   "metadata": {},
   "outputs": [
    {
     "data": {
      "text/html": [
       "<div>\n",
       "<style scoped>\n",
       "    .dataframe tbody tr th:only-of-type {\n",
       "        vertical-align: middle;\n",
       "    }\n",
       "\n",
       "    .dataframe tbody tr th {\n",
       "        vertical-align: top;\n",
       "    }\n",
       "\n",
       "    .dataframe thead th {\n",
       "        text-align: right;\n",
       "    }\n",
       "</style>\n",
       "<table border=\"1\" class=\"dataframe\">\n",
       "  <thead>\n",
       "    <tr style=\"text-align: right;\">\n",
       "      <th></th>\n",
       "      <th>index</th>\n",
       "      <th>price_range</th>\n",
       "    </tr>\n",
       "  </thead>\n",
       "  <tbody>\n",
       "    <tr>\n",
       "      <th>0</th>\n",
       "      <td>405</td>\n",
       "      <td>3</td>\n",
       "    </tr>\n",
       "    <tr>\n",
       "      <th>1</th>\n",
       "      <td>1190</td>\n",
       "      <td>0</td>\n",
       "    </tr>\n",
       "    <tr>\n",
       "      <th>2</th>\n",
       "      <td>1132</td>\n",
       "      <td>2</td>\n",
       "    </tr>\n",
       "    <tr>\n",
       "      <th>3</th>\n",
       "      <td>731</td>\n",
       "      <td>2</td>\n",
       "    </tr>\n",
       "    <tr>\n",
       "      <th>4</th>\n",
       "      <td>1754</td>\n",
       "      <td>2</td>\n",
       "    </tr>\n",
       "    <tr>\n",
       "      <th>...</th>\n",
       "      <td>...</td>\n",
       "      <td>...</td>\n",
       "    </tr>\n",
       "    <tr>\n",
       "      <th>495</th>\n",
       "      <td>936</td>\n",
       "      <td>3</td>\n",
       "    </tr>\n",
       "    <tr>\n",
       "      <th>496</th>\n",
       "      <td>1524</td>\n",
       "      <td>0</td>\n",
       "    </tr>\n",
       "    <tr>\n",
       "      <th>497</th>\n",
       "      <td>1415</td>\n",
       "      <td>2</td>\n",
       "    </tr>\n",
       "    <tr>\n",
       "      <th>498</th>\n",
       "      <td>1223</td>\n",
       "      <td>3</td>\n",
       "    </tr>\n",
       "    <tr>\n",
       "      <th>499</th>\n",
       "      <td>1548</td>\n",
       "      <td>2</td>\n",
       "    </tr>\n",
       "  </tbody>\n",
       "</table>\n",
       "<p>500 rows × 2 columns</p>\n",
       "</div>"
      ],
      "text/plain": [
       "     index  price_range\n",
       "0      405            3\n",
       "1     1190            0\n",
       "2     1132            2\n",
       "3      731            2\n",
       "4     1754            2\n",
       "..     ...          ...\n",
       "495    936            3\n",
       "496   1524            0\n",
       "497   1415            2\n",
       "498   1223            3\n",
       "499   1548            2\n",
       "\n",
       "[500 rows x 2 columns]"
      ]
     },
     "execution_count": 43,
     "metadata": {},
     "output_type": "execute_result"
    }
   ],
   "source": [
    "# Membuat DataFrame sesuai ketentuan di Kaggle\n",
    "\n",
    "result_NB = df_test[['index','price_range']].astype(int)\n",
    "result_NB"
   ]
  },
  {
   "cell_type": "code",
   "execution_count": 47,
   "metadata": {},
   "outputs": [],
   "source": [
    "#Save file .csv\n",
    "\n",
    "result_NB.to_csv('Submission_NB3.csv', index = False)"
   ]
  },
  {
   "cell_type": "code",
   "execution_count": 48,
   "metadata": {},
   "outputs": [
    {
     "data": {
      "text/html": [
       "<div>\n",
       "<style scoped>\n",
       "    .dataframe tbody tr th:only-of-type {\n",
       "        vertical-align: middle;\n",
       "    }\n",
       "\n",
       "    .dataframe tbody tr th {\n",
       "        vertical-align: top;\n",
       "    }\n",
       "\n",
       "    .dataframe thead th {\n",
       "        text-align: right;\n",
       "    }\n",
       "</style>\n",
       "<table border=\"1\" class=\"dataframe\">\n",
       "  <thead>\n",
       "    <tr style=\"text-align: right;\">\n",
       "      <th></th>\n",
       "      <th>index</th>\n",
       "      <th>price_range</th>\n",
       "    </tr>\n",
       "  </thead>\n",
       "  <tbody>\n",
       "    <tr>\n",
       "      <th>0</th>\n",
       "      <td>405</td>\n",
       "      <td>3</td>\n",
       "    </tr>\n",
       "    <tr>\n",
       "      <th>1</th>\n",
       "      <td>1190</td>\n",
       "      <td>0</td>\n",
       "    </tr>\n",
       "    <tr>\n",
       "      <th>2</th>\n",
       "      <td>1132</td>\n",
       "      <td>2</td>\n",
       "    </tr>\n",
       "    <tr>\n",
       "      <th>3</th>\n",
       "      <td>731</td>\n",
       "      <td>2</td>\n",
       "    </tr>\n",
       "    <tr>\n",
       "      <th>4</th>\n",
       "      <td>1754</td>\n",
       "      <td>2</td>\n",
       "    </tr>\n",
       "  </tbody>\n",
       "</table>\n",
       "</div>"
      ],
      "text/plain": [
       "   index  price_range\n",
       "0    405            3\n",
       "1   1190            0\n",
       "2   1132            2\n",
       "3    731            2\n",
       "4   1754            2"
      ]
     },
     "execution_count": 48,
     "metadata": {},
     "output_type": "execute_result"
    }
   ],
   "source": [
    "# Memeriksa format file .csv \n",
    "\n",
    "format_check = pd.read_csv('submission_NB3.csv')\n",
    "format_check.head()"
   ]
  },
  {
   "cell_type": "code",
   "execution_count": null,
   "metadata": {},
   "outputs": [],
   "source": []
  }
 ],
 "metadata": {
  "kernelspec": {
   "display_name": "Python 3",
   "language": "python",
   "name": "python3"
  },
  "language_info": {
   "codemirror_mode": {
    "name": "ipython",
    "version": 3
   },
   "file_extension": ".py",
   "mimetype": "text/x-python",
   "name": "python",
   "nbconvert_exporter": "python",
   "pygments_lexer": "ipython3",
   "version": "3.8.5"
  }
 },
 "nbformat": 4,
 "nbformat_minor": 4
}
