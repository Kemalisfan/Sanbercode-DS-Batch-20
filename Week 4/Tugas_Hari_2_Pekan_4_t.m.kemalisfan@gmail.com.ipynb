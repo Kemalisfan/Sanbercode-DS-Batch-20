{
 "cells": [
  {
   "cell_type": "markdown",
   "metadata": {
    "colab_type": "text",
    "id": "5K6xQ_mFbt7B"
   },
   "source": [
    "<h1>Soal 1: Pemahaman Algoritma</h1>\n",
    "\n",
    "Jawab Pertanyaan di bawah ini dengan penyampaian bahasa sendiri!\n",
    "\n",
    "1. Bagaimana proses algoritma KNN?\n",
    "2. Jelaskan minimal 2 kekurangan dari algoritma KNN?"
   ]
  },
  {
   "cell_type": "markdown",
   "metadata": {
    "colab_type": "text",
    "id": "00A5KWAygagM"
   },
   "source": [
    "Jawab:"
   ]
  },
  {
   "cell_type": "markdown",
   "metadata": {
    "colab_type": "text",
    "id": "UDvanK5pgcnF"
   },
   "source": [
    "1. Algoritma KNN bekerja dengan cara melakukan klasifikasi suatu data berdasarkan data pembelajaran (train data sets), yang diambil dari k tetangga terdekatnya (nearest neighbors). K-nearest neighbors melakukan klasifikasi dengan proyeksi data pembelajaran pada ruang berdimensi banyak. Ruang ini dibagi menjadi bagian-bagian yang merepresentasikan kriteria data pembelajaran. Setiap data pembelajaran direpresentasikan menjadi titik-titik c pada ruang dimensi banyak.\n",
    "\n",
    "2. a. Sangat sensitif terhadap outlier(data pencilan)\n",
    "\n",
    "   b. Jika K = genap, algoritma KNN akan bingung melabelkan data jika tetangga terdekatnya diklasifikasikan menjadi dua label dan jumlah masing-masingnya sama"
   ]
  },
  {
   "cell_type": "markdown",
   "metadata": {
    "colab_type": "text",
    "id": "VsHxDJ4jbt7P"
   },
   "source": [
    "<h1>Soal 2: Pengaplikasian Algoritma KNN</h1>\n",
    "\n",
    "- Buatlah model KNN\n",
    "- Training model tersebut kepada data X_train dengan hyperparameter kombinasi antara  2<= k <=20 dan weights bernilai 'uniform', dan 'distance'  \n",
    "- Lakukan prediksi terhadap data X_test untuk model di setiap kombinasi k dan weights\n",
    "- Score dengan accuracy dari hasil prediksi terhadap data X_test untuk setiap kombinasi hyperparameter, masukan score tersebut ke dalam objek list dengan di groupkan berdasarkan jenis weights, sehingga di akhir kita punya variable misalkan list_uniform_score, dan list_distance_score\n",
    "- Plot kedua list tersebut dengan lineplot kedalam satu axis dan bandingkan hasilnya"
   ]
  },
  {
   "cell_type": "code",
   "execution_count": 10,
   "metadata": {
    "colab": {},
    "colab_type": "code",
    "id": "Gng40Wu8bt7c"
   },
   "outputs": [],
   "source": [
    "from sklearn.datasets import load_wine\n",
    "import pandas as pd\n",
    "import numpy as np\n",
    "\n",
    "wine = load_wine()\n",
    "df = pd.DataFrame(np.c_[wine['data'], wine['target']], columns= wine['feature_names'] + ['class'])\n",
    "\n",
    "#Preprocessing data\n",
    "X = df.drop('class', axis=1)\n",
    "y = df['class']\n",
    "\n",
    "from sklearn.model_selection import train_test_split\n",
    "\n",
    "X_train, X_test, y_train, y_test = train_test_split(X, y, test_size=0.2, random_state=21)"
   ]
  },
  {
   "cell_type": "markdown",
   "metadata": {
    "colab_type": "text",
    "id": "9IRv63G0bt8T"
   },
   "source": [
    "Contoh hasil yang di harapkan :\n",
    "\n",
    "\n",
    "```\n",
    "Uniform Scores:\n",
    "[0.6944444444444444,\n",
    " 0.8055555555555556,\n",
    " 0.7222222222222222,\n",
    " 0.6666666666666666,\n",
    " 0.6388888888888888,\n",
    " 0.75,\n",
    " 0.6388888888888888,\n",
    " 0.6944444444444444,\n",
    " 0.6944444444444444,\n",
    " 0.7222222222222222,\n",
    " 0.6388888888888888,\n",
    " 0.6666666666666666,\n",
    " 0.6388888888888888,\n",
    " 0.6666666666666666,\n",
    " 0.6111111111111112,\n",
    " 0.6666666666666666,\n",
    " 0.6388888888888888,\n",
    " 0.6666666666666666,\n",
    " 0.6111111111111112]\n",
    "\n",
    "Distance scores:\n",
    "[0.75,\n",
    " 0.8333333333333334,\n",
    " 0.7777777777777778,\n",
    " 0.75,\n",
    " 0.7222222222222222,\n",
    " 0.75,\n",
    " 0.6944444444444444,\n",
    " 0.7222222222222222,\n",
    " 0.6944444444444444,\n",
    " 0.6944444444444444,\n",
    " 0.6944444444444444,\n",
    " 0.6944444444444444,\n",
    " 0.6944444444444444,\n",
    " 0.6666666666666666,\n",
    " 0.6666666666666666,\n",
    " 0.6666666666666666,\n",
    " 0.6666666666666666,\n",
    " 0.6666666666666666,\n",
    " 0.6666666666666666]\n",
    "```\n",
    "\n",
    "\n",
    "\n",
    " \n",
    "\n",
    "\n",
    "![alt text](https://drive.google.com/uc?id=1pppy_BWQsg5tdgOBEU1GgiHSklLLoimt)"
   ]
  },
  {
   "cell_type": "markdown",
   "metadata": {
    "colab_type": "text",
    "id": "UnInuMmFgfQp"
   },
   "source": [
    "### Jawab :"
   ]
  },
  {
   "cell_type": "code",
   "execution_count": 40,
   "metadata": {},
   "outputs": [],
   "source": [
    "#memilih algoritma model yang akan kita gunakan\n",
    "from sklearn.neighbors import KNeighborsRegressor\n",
    " \n",
    "k_range = range(2,21)\n",
    "list_uniform_score = []\n",
    "list_distance_score = []\n",
    "\n",
    "def train (k,w):\n",
    "    model_knn = KNeighborsRegressor(n_neighbors=k, weights=w)\n",
    "    model_knn.fit(X_train, y_train)\n",
    "    model_knn.predict(X_test)\n",
    "    return model_knn.score(X_test, y_test)\n",
    "\n",
    "for k in k_range:\n",
    "    list_uniform_score.append(train_model(k,'uniform'))\n",
    "    list_distance_score.append(train_model(k,'distance'))\n"
   ]
  },
  {
   "cell_type": "code",
   "execution_count": 41,
   "metadata": {},
   "outputs": [
    {
     "data": {
      "text/plain": [
       "[0.6944444444444444,\n",
       " 0.8055555555555556,\n",
       " 0.7222222222222222,\n",
       " 0.6666666666666666,\n",
       " 0.6388888888888888,\n",
       " 0.75,\n",
       " 0.6388888888888888,\n",
       " 0.6944444444444444,\n",
       " 0.6944444444444444,\n",
       " 0.7222222222222222,\n",
       " 0.6388888888888888,\n",
       " 0.6666666666666666,\n",
       " 0.6388888888888888,\n",
       " 0.6666666666666666,\n",
       " 0.6111111111111112,\n",
       " 0.6666666666666666,\n",
       " 0.6388888888888888,\n",
       " 0.6666666666666666,\n",
       " 0.6111111111111112]"
      ]
     },
     "execution_count": 41,
     "metadata": {},
     "output_type": "execute_result"
    }
   ],
   "source": [
    "list_uniform_score"
   ]
  },
  {
   "cell_type": "code",
   "execution_count": 42,
   "metadata": {},
   "outputs": [
    {
     "data": {
      "text/plain": [
       "[0.75,\n",
       " 0.8333333333333334,\n",
       " 0.7777777777777778,\n",
       " 0.75,\n",
       " 0.7222222222222222,\n",
       " 0.75,\n",
       " 0.6944444444444444,\n",
       " 0.7222222222222222,\n",
       " 0.6944444444444444,\n",
       " 0.6944444444444444,\n",
       " 0.6944444444444444,\n",
       " 0.6944444444444444,\n",
       " 0.6944444444444444,\n",
       " 0.6666666666666666,\n",
       " 0.6666666666666666,\n",
       " 0.6666666666666666,\n",
       " 0.6666666666666666,\n",
       " 0.6666666666666666,\n",
       " 0.6666666666666666]"
      ]
     },
     "execution_count": 42,
     "metadata": {},
     "output_type": "execute_result"
    }
   ],
   "source": [
    "list_distance_score"
   ]
  },
  {
   "cell_type": "code",
   "execution_count": 43,
   "metadata": {},
   "outputs": [
    {
     "data": {
      "image/png": "[encoded data removed]",
      "text/plain": [
       "<Figure size 864x432 with 1 Axes>"
      ]
     },
     "metadata": {
      "needs_background": "light"
     },
     "output_type": "display_data"
    }
   ],
   "source": [
    "import matplotlib.pyplot as plt\n",
    "fig, ax = plt.subplots(figsize=(12,6))\n",
    "\n",
    "k=k_range\n",
    "ax.plot(k, list_uniform_score, label='Uniform score', marker='o')\n",
    "ax.plot(k, list_distance_score, label='Distance score', marker='o')\n",
    "ax.set_xlabel('K-Value')\n",
    "ax.set_ylabel('Score')\n",
    "ax.set_title('Accuracy: Uniform scores vs Distance scores')\n",
    "plt.legend(loc='upper right',frameon=True,bbox_to_anchor=(1.17,1.2))\n",
    "plt.show()\n"
   ]
  },
  {
   "cell_type": "markdown",
   "metadata": {
    "colab_type": "text",
    "id": "1xGA6Usmbt8b"
   },
   "source": [
    "<h1>Soal 3: Pengaplikasian Model Linear Regression</h1>\n",
    "\n",
    "Applikasikan model linear regresi kedalam data berikut. Kemudian tunjukan parameter koefesien dan intercept dari model tersebut."
   ]
  },
  {
   "cell_type": "code",
   "execution_count": 54,
   "metadata": {
    "colab": {},
    "colab_type": "code",
    "id": "IEsbrAiybt8i"
   },
   "outputs": [],
   "source": [
    "import numpy as np\n",
    "\n",
    "rng = np.random.RandomState(1)\n",
    "\n",
    "X = 10 * rng.rand(50, 4)\n",
    "y = np.array([  0.9826564 ,  49.40390035,  85.76013175,  29.17254633,\n",
    "        11.270054  ,  61.53852735, -19.52503854,  10.10230867,\n",
    "        82.03058206,  45.72660678,  82.09252575,  90.78872391,\n",
    "        67.94178098,  39.97492762, 124.78866966,  85.24615819,\n",
    "        85.68491086,  80.39481211,  14.54591581, 137.19722354,\n",
    "        85.04063428,  94.76681927,  84.64289989,  38.76421156,\n",
    "        47.33953927,  94.50853335,  77.3276567 ,  -9.77846805,\n",
    "        61.13434468,  42.12124052,  26.65634335, 120.41593333,\n",
    "       138.08132504, 103.33745675, 145.64447692,  19.54777986,\n",
    "        87.40631024, 111.47327389,  95.94874761, 146.34817502,\n",
    "       118.10333528,  56.85956484, 108.57660235, 114.30790247,\n",
    "        40.27107041,  73.83871008,  45.52217182,  -7.57752547,\n",
    "       147.81772162, 139.40285349])"
   ]
  },
  {
   "cell_type": "code",
   "execution_count": 56,
   "metadata": {},
   "outputs": [
    {
     "data": {
      "text/plain": [
       "LinearRegression()"
      ]
     },
     "execution_count": 56,
     "metadata": {},
     "output_type": "execute_result"
    }
   ],
   "source": [
    "from sklearn.linear_model import LinearRegression\n",
    "reg = LinearRegression()  \n",
    "reg.fit(X, y)"
   ]
  },
  {
   "cell_type": "markdown",
   "metadata": {},
   "source": [
    "#### parameter koefisien:"
   ]
  },
  {
   "cell_type": "code",
   "execution_count": 51,
   "metadata": {},
   "outputs": [
    {
     "data": {
      "text/plain": [
       "array([ 1.5, -5. ,  9. , 10. ])"
      ]
     },
     "execution_count": 51,
     "metadata": {},
     "output_type": "execute_result"
    }
   ],
   "source": [
    "reg.coef_"
   ]
  },
  {
   "cell_type": "markdown",
   "metadata": {},
   "source": [
    "#### Parameter intercept:"
   ]
  },
  {
   "cell_type": "code",
   "execution_count": 53,
   "metadata": {},
   "outputs": [
    {
     "data": {
      "text/plain": [
       "0.5000000016247697"
      ]
     },
     "execution_count": 53,
     "metadata": {},
     "output_type": "execute_result"
    }
   ],
   "source": [
    "reg.intercept_"
   ]
  }
 ],
 "metadata": {
  "colab": {
   "collapsed_sections": [],
   "name": "Tugas Hari 2 Pekan 4.ipynb",
   "provenance": []
  },
  "kernelspec": {
   "display_name": "Python 3",
   "language": "python",
   "name": "python3"
  },
  "language_info": {
   "codemirror_mode": {
    "name": "ipython",
    "version": 3
   },
   "file_extension": ".py",
   "mimetype": "text/x-python",
   "name": "python",
   "nbconvert_exporter": "python",
   "pygments_lexer": "ipython3",
   "version": "3.8.5"
  }
 },
 "nbformat": 4,
 "nbformat_minor": 1
}
