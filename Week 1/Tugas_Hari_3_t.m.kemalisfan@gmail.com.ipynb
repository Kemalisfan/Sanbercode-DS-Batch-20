{
 "cells": [
  {
   "cell_type": "markdown",
   "metadata": {
    "colab_type": "text",
    "id": "a9HYUdCUsrKl"
   },
   "source": [
    "<h2>Soal 1: Comparison Operator</h2>\n",
    "\n",
    "- Berikan contoh comparison dari tipe data string\n",
    "- Berikan contoh comparison dari tipe data boolean\n",
    "- Berikan contoh comparison dari tipe data integer"
   ]
  },
  {
   "cell_type": "code",
   "execution_count": 7,
   "metadata": {
    "colab": {},
    "colab_type": "code",
    "id": "lXMCHZ71srKp"
   },
   "outputs": [
    {
     "name": "stdout",
     "output_type": "stream",
     "text": [
      "1. String Comparison\n",
      "False\n",
      "True\n",
      "False\n",
      "True\n",
      "2. Boolean Comparison\n",
      "True\n",
      "False\n",
      "False\n",
      "False\n",
      "3. Integer Comparison\n",
      "False\n",
      "True\n",
      "True\n",
      "False\n"
     ]
    }
   ],
   "source": [
    "print(\"1. String Comparison\")\n",
    "s1=\"Halo\"\n",
    "s2=\"Hello\"\n",
    "print(s1==s2)     #Expected Statement : False\n",
    "print(s1!=s2)\n",
    "print(s1>s2)      #Expected Statement : False; Karena dalam ASCII nilai karakter 'a' lebih kecil dari 'e'.\n",
    "print(s1<s2)\n",
    "\n",
    "print(\"2. Boolean Comparison\")\n",
    "b1=True\n",
    "b2=True\n",
    "print(b1==b2)\n",
    "print(b1!=b2)    #Expected Statement : False\n",
    "print(b1>b2)     #Expected Statement : False\n",
    "print(b1<b2)     #Expected Statement : False\n",
    "\n",
    "print(\"3. Integer Comparison\")\n",
    "i1=10\n",
    "i2=5\n",
    "print(i1==i2)    #Expected Statement : False\n",
    "print(i1!=i2)\n",
    "print(i1>i2)\n",
    "print(i1<i2)     #Expected Statement : False"
   ]
  },
  {
   "cell_type": "markdown",
   "metadata": {
    "colab_type": "text",
    "id": "IbNoZvVssrK5"
   },
   "source": [
    "<h2>Soal 2: Boolean Comparison</h2>\n",
    "\n",
    "- Berikan contoh gabungan multiple comparison menggunkan Boolean Comparisin 'and'\n",
    "- Berikan contoh gabungan multiple comparison menggunkan Boolean Comparisin 'or'\n",
    "- Berikan contoh gabungan multiple comparison menggunkan Boolean Comparisin 'not'"
   ]
  },
  {
   "cell_type": "code",
   "execution_count": 12,
   "metadata": {
    "colab": {},
    "colab_type": "code",
    "id": "7eU1vPLCsrK7"
   },
   "outputs": [
    {
     "name": "stdout",
     "output_type": "stream",
     "text": [
      "False\n",
      "True\n",
      "False\n"
     ]
    }
   ],
   "source": [
    "eq1=8>2\n",
    "eq2=2>8\n",
    "\n",
    "print(eq1 and eq2)   #Output False karena tidak semua kondisi benar(True)\n",
    "print(eq1 or eq2)      #Output True karena terdapat salah satu kondisi yang benar (True)\n",
    "print(not eq1)           #Output False karena pada eq1 boolean valuenya 'True' (8 lebih dari 2). \n",
    "                         #Operator \"not\" akan memberi nilai True jika pernyataan salah\n"
   ]
  },
  {
   "cell_type": "markdown",
   "metadata": {
    "colab_type": "text",
    "id": "Yp_g_sPMsrLH"
   },
   "source": [
    "<h2>Soal 3: If-Else Statement</h2>\n",
    "\n",
    "Lengkapi kode untuk menghasilkan suatu output yang di harapkan\n",
    "\n",
    "- Bualah sebuah if-else statement yang dimana akan mem-print 'Besar' jika ruangan adalah 'Kamar' dan ukuran lebih dari 12, kemudian mem-print 'Sedang' jika ruangan adalah 'Kamar' dan ukuran lebih dari 6 dan memprint 'Kecil' jika ruangan adalah 'Kamar' dan ukuran ruangan lebih kecil dan sama dengan 6."
   ]
  },
  {
   "cell_type": "code",
   "execution_count": 91,
   "metadata": {
    "colab": {},
    "colab_type": "code",
    "id": "euRiRNupsrLK"
   },
   "outputs": [
    {
     "name": "stdout",
     "output_type": "stream",
     "text": [
      "Sedang\n"
     ]
    }
   ],
   "source": [
    "ruangan = 'Kamar'\n",
    "size = 12\n",
    "\n",
    "if ruangan == \"Kamar\" and size > 12:\n",
    "    print('Besar')\n",
    "elif ruangan == \"Kamar\" and 6 < size <=12 :\n",
    "    print('Sedang')\n",
    "else:\n",
    "    print('Kecil')"
   ]
  },
  {
   "cell_type": "markdown",
   "metadata": {
    "colab_type": "text",
    "id": "IcoJXJT1srLW"
   },
   "source": [
    "<h2>Soal 4: Comparison Operator dengan fungsi</h2>\n",
    "\n",
    "Buatlah sebuah fungsi yang menerima satu argument bertipe data numeric dan menghasilkan sebuah return sebagai berikut :\n",
    "- menghasilkan return 'Aneh' jika nilai dari argument tersebut adalah bilangan ganjil\n",
    "- menghasilkan return 'Tidak Aneh' jika nilai dari argument tersebut adalah bilangan genap dan diantara nilai 2 sampai 5 (2 dan 5 termasuk)\n",
    "- menghasilkan return 'Aneh' jika nilai dari argument tersebut adalah bilangan genap dan diantara nilai 6 sampai 20 (6 dan 20 termasuk)\n",
    "- menghasilkan return 'Tidak Aneh' jika nilai dari argument tersebut adalah bilangan genap dan lebih besari dari 20"
   ]
  },
  {
   "cell_type": "code",
   "execution_count": 6,
   "metadata": {
    "colab": {},
    "colab_type": "code",
    "id": "g8F_qfEKsrLZ"
   },
   "outputs": [
    {
     "name": "stdout",
     "output_type": "stream",
     "text": [
      "Masukkan Angka:4\n",
      "Tidak aneh\n"
     ]
    }
   ],
   "source": [
    "# Buat Fungsi\n",
    "number=int(input(\"Masukkan Angka:\"))\n",
    "\n",
    "def angka(num):\n",
    "    if num%2 !=0:\n",
    "        print(\"Aneh\")\n",
    "    elif num in range(2,6,2):\n",
    "        print(\"Tidak aneh\")\n",
    "    elif num in range(6,21,2):\n",
    "        print(\"Aneh\")\n",
    "    else:\n",
    "        print(\"Tidak Aneh\")\n",
    "\n",
    "angka(number)\n",
    "        \n",
    "#angka(1) #Bilangan Ganjil, Maka output \"Aneh\"\n",
    "#angka(4) #Bilangan genap antara 2 dan 5, Maka output \"Tidak Aneh\"\n",
    "#angka(8) #Bilangan Genap antara 6 s.d. 20, Maka Output \"Aneh\"\n",
    "#angka(42) #Bilangan  Genap lebih dari 20, Maka Output \"Tidak Aneh\"\n",
    "\n"
   ]
  },
  {
   "cell_type": "markdown",
   "metadata": {
    "colab_type": "text",
    "id": "gf0D64xOsrLl"
   },
   "source": [
    "<h2>Soal 5: While Loop dan For Loop</h2>\n",
    "\n",
    "- Apa perbedaan while loop dan for loop?\n",
    "- Berikan contoh sederhana cara menggunakan while loop dan for loop"
   ]
  },
  {
   "cell_type": "code",
   "execution_count": 8,
   "metadata": {
    "colab": {},
    "colab_type": "code",
    "id": "l7KIgpjHsrLo"
   },
   "outputs": [
    {
     "name": "stdout",
     "output_type": "stream",
     "text": [
      "While Loop \n",
      "\n",
      "0\n",
      "1\n",
      "2\n",
      "3\n",
      "4\n",
      "5\n",
      "================================================== \n",
      "\n",
      "for loop \n",
      "\n",
      "0\n",
      "1\n",
      "2\n",
      "3\n",
      "4\n",
      "5\n"
     ]
    }
   ],
   "source": [
    "# Tulis Kode\n",
    "#For loop digunakan apabila kita sudah mengetahui pasti berapa iterasi yang akan dilakukan.\n",
    "#While loop akan terus melakukan iterasi sampai mencapai suatu kondisi yang ditetapkan. \n",
    "#Kita lebih baik menggunakan while loop apabila tidak mengetahui berapa iterasi yang diperlukan.\n",
    "\n",
    "#Contoh \n",
    "print(\"While Loop \\n\")\n",
    "n = 0\n",
    "while n < 10:\n",
    "  print(n)\n",
    "  if n == 5:\n",
    "    break\n",
    "  n += 1\n",
    "\n",
    "print(\"=\"*50,\"\\n\")\n",
    "\n",
    "print (\"for loop \\n\")\n",
    "for n in range(0,10):\n",
    "    if n<=5:\n",
    "        print(n)\n"
   ]
  },
  {
   "cell_type": "markdown",
   "metadata": {
    "colab_type": "text",
    "id": "fZQpBGCgsrLz"
   },
   "source": [
    "<h2>Soal 6: While Loop</h2>\n",
    "    \n",
    "Buatlah sebuah code while loop sebagai berikut :\n",
    "- Buatlah suatu fungsi yang merima satu input nilai numeric\n",
    "- Dalam fungsi, Buat sebuah while-loop dengan melakukan comparasi terhadap inputan tersebut, dimana looping/iterasi terus berjalan apabila nilai inputan tidak sama dengan 0\n",
    "- Dalam setiap iterasi update nilai variable inputan itu, jika input lebih dari 0, maka kurangi variabel tersebut sebesar 1, selain itu tambahkan 1\n",
    "- print nilai variable input dalam setiap awal iterasi"
   ]
  },
  {
   "cell_type": "code",
   "execution_count": 9,
   "metadata": {
    "colab": {},
    "colab_type": "code",
    "id": "yOiqjrU2srL1"
   },
   "outputs": [
    {
     "name": "stdout",
     "output_type": "stream",
     "text": [
      "10 \n",
      "\n",
      "9 \n",
      "\n",
      "8 \n",
      "\n",
      "7 \n",
      "\n",
      "6 \n",
      "\n",
      "5 \n",
      "\n",
      "4 \n",
      "\n",
      "3 \n",
      "\n",
      "2 \n",
      "\n",
      "1 \n",
      "\n"
     ]
    }
   ],
   "source": [
    "a = 10\n",
    "\n",
    "def fungsi_while(x):\n",
    "    while x != 0:\n",
    "        print(x,\"\\n\")\n",
    "        if x > 0:\n",
    "            x-=1\n",
    "        else:\n",
    "            x+=1\n",
    "        \n",
    "fungsi_while(a)"
   ]
  },
  {
   "cell_type": "markdown",
   "metadata": {
    "colab_type": "text",
    "id": "lKzngRrlsrMD"
   },
   "source": [
    "Expected Output:\n",
    "\n",
    "10\n",
    "\n",
    "9\n",
    "\n",
    "8\n",
    "\n",
    "7\n",
    "\n",
    "6\n",
    "\n",
    "5\n",
    "\n",
    "4\n",
    "\n",
    "3\n",
    "\n",
    "2\n",
    "\n",
    "1"
   ]
  },
  {
   "cell_type": "markdown",
   "metadata": {
    "colab_type": "text",
    "id": "IWg3Z_zZsrMG"
   },
   "source": [
    "<h2>Soal 7: For Loop</h2>\n",
    "    \n",
    "Lengkapi kode untuk menghasilkan suatu output yang di harapkan:\n",
    "\n",
    "- Buatlah sebuah loop dengan mengiterasi sebuah objek list kemudian di kalikan dengan index dari list tersebut dan print hasilnya"
   ]
  },
  {
   "cell_type": "code",
   "execution_count": 10,
   "metadata": {
    "colab": {},
    "colab_type": "code",
    "id": "_Jl5i7WKsrMI",
    "scrolled": false
   },
   "outputs": [
    {
     "name": "stdout",
     "output_type": "stream",
     "text": [
      "0\n",
      "\n",
      "16\n",
      "\n",
      "22\n",
      "\n",
      "30\n",
      "\n",
      "20\n",
      "\n"
     ]
    }
   ],
   "source": [
    "obj_list= [1, 16, 11, 10, 5]\n",
    "\n",
    "# lengkapi code di bawah\n",
    "for i,obj in enumerate(obj_list):\n",
    "    print(str(i*obj)+\"\\n\")\n"
   ]
  },
  {
   "cell_type": "markdown",
   "metadata": {
    "colab_type": "text",
    "id": "OGawROjnsrMU"
   },
   "source": [
    "Expected Output:\n",
    "\n",
    "0\n",
    "\n",
    "16\n",
    "\n",
    "22\n",
    "\n",
    "30\n",
    "\n",
    "20\n"
   ]
  }
 ],
 "metadata": {
  "colab": {
   "name": "Tugas Hari 4.ipynb",
   "provenance": []
  },
  "kernelspec": {
   "display_name": "Python 3",
   "language": "python",
   "name": "python3"
  },
  "language_info": {
   "codemirror_mode": {
    "name": "ipython",
    "version": 3
   },
   "file_extension": ".py",
   "mimetype": "text/x-python",
   "name": "python",
   "nbconvert_exporter": "python",
   "pygments_lexer": "ipython3",
   "version": "3.8.5"
  }
 },
 "nbformat": 4,
 "nbformat_minor": 1
}
